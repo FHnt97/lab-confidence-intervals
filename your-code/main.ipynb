{
 "cells": [
  {
   "cell_type": "markdown",
   "metadata": {},
   "source": [
    "# Confidence Intervals"
   ]
  },
  {
   "cell_type": "code",
   "execution_count": 7,
   "metadata": {},
   "outputs": [],
   "source": [
    "# Libraries\n",
    "import scipy as sp\n",
    "from scipy import stats"
   ]
  },
  {
   "cell_type": "markdown",
   "metadata": {},
   "source": [
    "## Challenge 1\n",
    "We want to estimate the average size of the men of a country with a confidence level of 80%. Assuming that the standard deviation of the sizes in the population is 4, get the confidence interval with a sample of men selected randomly, whose heights are:\n",
    "\n",
    "````\n",
    "heights = [167, 167, 168, 168, 168, 169, 171, 172, 173, 175, 175, 175, 177, 182, 195]\n",
    "````\n",
    "\n",
    "**Hint**: function `stats.norm.interval` from `scipy` can help you get through this exercise. "
   ]
  },
  {
   "cell_type": "code",
   "execution_count": 8,
   "metadata": {},
   "outputs": [
    {
     "name": "stdout",
     "output_type": "stream",
     "text": [
      "We can say with a 80% probability that the real mean will fall in the confidence itnerval of: \n",
      " 174.78864498217214 172.1446883511612\n"
     ]
    }
   ],
   "source": [
    "# your code here\n",
    "# we use n distribution to find mean interval\n",
    "# no need for t distribution as we have the real sdev\n",
    "heights = [167, 167, 168, 168, 168, 169, 171, 172, 173, 175, 175, 175, 177, 182, 195]\n",
    "stdev = 4\n",
    "alpha = 0.2\n",
    "n = len(heights)\n",
    "sample_mean = sum(heights)/n\n",
    "Z = 1.28 #z value from z value table \n",
    "\n",
    "lower_bound = sample_mean - (Z*stdev/(n**0.5))\n",
    "upper_bound =  sample_mean + (Z*stdev/(n**0.5))\n",
    "\n",
    "print(\"We can say with a 80% probability that the real mean will fall in the confidence itnerval of: \\n\", upper_bound, lower_bound)\n"
   ]
  },
  {
   "cell_type": "code",
   "execution_count": 18,
   "metadata": {},
   "outputs": [
    {
     "data": {
      "text/plain": [
       "(172.45327825412346, 174.48005507920988)"
      ]
     },
     "execution_count": 18,
     "metadata": {},
     "output_type": "execute_result"
    }
   ],
   "source": [
    "#method 2\n",
    "R = sp.stats.norm.interval(alpha,loc=sample_mean,scale=stdev)\n",
    "R"
   ]
  },
  {
   "cell_type": "markdown",
   "metadata": {},
   "source": [
    "## Challenge 2 \n",
    "In a sample of 105 shops selected randomly from an area, we note that 27 of them have had losses in this month. Get an interval for the proportion of businesses in the area with losses to a confidence level of 80% and a confidence level of 90%.\n",
    "\n",
    "**Hint**: function `stats.norm.interval` from `scipy` can help you get through this exercise. "
   ]
  },
  {
   "cell_type": "code",
   "execution_count": 17,
   "metadata": {},
   "outputs": [
    {
     "name": "stdout",
     "output_type": "stream",
     "text": [
      "(26.874338653144925, 27.125661346855075) (26.7466528968642, 27.2533471031358)\n"
     ]
    }
   ],
   "source": [
    "# your code here\n",
    "# assuming normal distribution \n",
    "# not really clear what im meant to calculate here.... \n",
    "# no mean or std of population give, no data to calculate std or mean of sample or population\n",
    "n = 105\n",
    "loss_n = 27\n",
    "sample_proportion = 27/105\n",
    "alpha2 = 0.2 \n",
    "alpha1 = 0.1\n",
    "\n",
    "interval1 = sp.stats.norm.interval(alpha1,loc=loss_n)\n",
    "interval2 = sp.stats.norm.interval(alpha2,loc=loss_n)\n",
    "\n",
    "print(interval1, interval2)"
   ]
  },
  {
   "cell_type": "markdown",
   "metadata": {},
   "source": [
    "## Challenge 3 - More practice\n",
    "For the same example in challenge 1, calculate a confidence interval for the variance at 90% level.\n",
    "\n",
    "**Hint**: function `stats.chi2.interval` from `scipy` can help you get through this exercise. "
   ]
  },
  {
   "cell_type": "code",
   "execution_count": 40,
   "metadata": {},
   "outputs": [
    {
     "data": {
      "text/plain": [
       "(array([164.05312696, 164.05312696, 165.04624258, 165.04624258,\n",
       "        165.04624258, 166.03937878, 168.02571219, 169.01890903,\n",
       "        170.01212574, 171.99861805, 171.99861805, 171.99861805,\n",
       "        173.98518775, 178.95194208, 191.86759243]),\n",
       " array([168.63553785, 168.63553785, 169.64241658, 169.64241658,\n",
       "        169.64241658, 170.64927481, 172.66293045, 173.66972822,\n",
       "        174.6765062 , 176.69000344, 176.69000344, 176.69000344,\n",
       "        178.70342352, 183.73664463, 196.82093636]))"
      ]
     },
     "execution_count": 40,
     "metadata": {},
     "output_type": "execute_result"
    }
   ],
   "source": [
    "# your code here\n",
    "# again, not really sure what is expected from us - do we graph it?\n",
    "#below is the height array taking in the max and min values per variable possible accordign to the confidence interval\n",
    "\n",
    "alpha = 0.1\n",
    "n = len(heights)\n",
    "k = n-1\n",
    "\n",
    "R = sp.stats.chi2.interval(alpha, heights)\n",
    "R"
   ]
  },
  {
   "cell_type": "markdown",
   "metadata": {},
   "source": [
    "## Challenge 4 - More practice\n",
    "The sulfuric acid content of 7 similar containers is 9.8, 10.2, 10.4, 9.8, 10.0, 10.2 and 9.6 liters. Calculate a 95% confidence interval for the average content of all containers assuming an approximately normal distribution.\n",
    "\n",
    "```\n",
    "acid = [9.8, 10.2, 10.4, 9.8, 10.0, 10.2, 9.6]\n",
    "```\n",
    "\n",
    "**Hint**: function `stats.t.interval` from `scipy` can help you get through this exercise. "
   ]
  },
  {
   "cell_type": "code",
   "execution_count": 42,
   "metadata": {},
   "outputs": [
    {
     "name": "stdout",
     "output_type": "stream",
     "text": [
      "10.261584506229708 9.738415493770292\n"
     ]
    }
   ],
   "source": [
    "# your code here - normal distribution\n",
    "# sample sdev\n",
    "# use t distribution\n",
    "from statistics import stdev\n",
    "\n",
    "\n",
    "acid = [9.8, 10.2, 10.4, 9.8, 10.0, 10.2, 9.6]\n",
    "alpha = 0.05\n",
    "n = len(acid)\n",
    "sample_mean = sum(acid)/n\n",
    "sample_std = stdev(acid)\n",
    "k = n-1\n",
    "T = 2.446899\n",
    "upper = sample_mean + (T*sample_std/(n**0.5))\n",
    "lower = sample_mean - (T*sample_std/(n**0.5))\n",
    "\n",
    "print (upper, lower)\n"
   ]
  },
  {
   "cell_type": "code",
   "execution_count": 45,
   "metadata": {},
   "outputs": [
    {
     "data": {
      "text/plain": [
       "(array([9.98223717, 9.98223717, 9.98223733, 9.98223733, 9.98223733,\n",
       "        9.98223749, 9.98223779, 9.98223795, 9.98223809, 9.98223839,\n",
       "        9.98223839, 9.98223839, 9.98223868, 9.98223937, 9.982241  ]),\n",
       " array([10.01776283, 10.01776283, 10.01776267, 10.01776267, 10.01776267,\n",
       "        10.01776251, 10.01776221, 10.01776205, 10.01776191, 10.01776161,\n",
       "        10.01776161, 10.01776161, 10.01776132, 10.01776063, 10.017759  ]))"
      ]
     },
     "execution_count": 45,
     "metadata": {},
     "output_type": "execute_result"
    }
   ],
   "source": [
    "R = stats.t.interval (alpha, heights, loc=sample_mean,scale=sample_std)\n",
    "R # HELP"
   ]
  },
  {
   "cell_type": "markdown",
   "metadata": {},
   "source": [
    "## Bonus Challenge\n",
    "The error level or sampling error for the first challenge is given by the following expression:\n",
    "$$Error = z_{\\frac{\\alpha}{2}}\\frac{\\sigma}{\\sqrt n}$$\n",
    "Where z represents the value for N(0,1)\n",
    "\n",
    "\n",
    "Suppose that with the previous data of challenge 1, and with a confidence level of\n",
    "99% (that is, almost certainly) we want to estimate the average population size, so that the error level committed is not greater than half a centimeter.\n",
    "\n",
    "#### 1.- Determine what size the selected sample of men should be."
   ]
  },
  {
   "cell_type": "code",
   "execution_count": null,
   "metadata": {},
   "outputs": [],
   "source": [
    "# your code here"
   ]
  },
  {
   "cell_type": "markdown",
   "metadata": {},
   "source": [
    "#### 2.- For the second challenge, we have the following error:\n",
    "$$ Error = z_{\\frac{\\alpha}{2}}\\sqrt{\\frac{p\\times q}{n}} $$\n",
    "#### Determine the sample size required to not exceed an error of 1% with a confidence of 80%."
   ]
  },
  {
   "cell_type": "code",
   "execution_count": null,
   "metadata": {},
   "outputs": [],
   "source": [
    "# your code here"
   ]
  },
  {
   "cell_type": "markdown",
   "metadata": {},
   "source": [
    "## Bonus Challenge\n",
    "\n",
    "Let's consider the following problem:\n",
    "\n",
    "Build a confidence interval of 94% for the real difference between the durations of two brands of spotlights, if a sample of 40 spotlights taken randomly from the first mark gave an average duration of 418 hours, and a sample of 50 bulbs of another brand gave a duration average of 402 hours. The standard deviations of the two\n",
    "populations are 26 hours and 22 hours, respectively.\n",
    "\n",
    "Sometimes, we will be interested in the difference of two different groups of random variables. We can also build a confidence interval for that! We have some different cases regarding the variance but for this specific case (the variance are different and known), we have that:\n",
    "\n",
    "$$\\overline{X} - \\overline{Y}  \\sim N(\\mu_{X} - \\mu_{Y} , \\sqrt{\\frac{\\sigma_{X}^2}{n_X}+\\frac{\\sigma_{Y}^2}{n_Y}})$$\n",
    "\n",
    "Solve the problem with this information."
   ]
  },
  {
   "cell_type": "code",
   "execution_count": null,
   "metadata": {},
   "outputs": [],
   "source": [
    "# your code here"
   ]
  }
 ],
 "metadata": {
  "kernelspec": {
   "display_name": "Python 3",
   "language": "python",
   "name": "python3"
  },
  "language_info": {
   "codemirror_mode": {
    "name": "ipython",
    "version": 3
   },
   "file_extension": ".py",
   "mimetype": "text/x-python",
   "name": "python",
   "nbconvert_exporter": "python",
   "pygments_lexer": "ipython3",
   "version": "3.7.3"
  }
 },
 "nbformat": 4,
 "nbformat_minor": 2
}
